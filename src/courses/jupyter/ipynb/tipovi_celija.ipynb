{
 "cells": [
  {
   "cell_type": "code",
   "execution_count": 1,
   "metadata": {},
   "outputs": [
    {
     "name": "stdout",
     "output_type": "stream",
     "text": [
      "Ovo je ćelija koda\n"
     ]
    },
    {
     "data": {
      "text/plain": [
       "54"
      ]
     },
     "execution_count": 1,
     "metadata": {},
     "output_type": "execute_result"
    }
   ],
   "source": [
    "print(\"Ovo je ćelija koda\")\n",
    "3**3*2"
   ]
  },
  {
   "cell_type": "markdown",
   "metadata": {},
   "source": [
    "Ovo je Markdown ćelija\n",
    "\n",
    "\n",
    "# Ovo je naslov\n",
    "## Ovo je podnaslov\n",
    "Za formatiranje slova se koristi **bold**, odnosno *italic*\n",
    "\n",
    "Paragraf se odvaja jednostavno praznom linijom.\n",
    "\n",
    "* Ponekad želimo da formiramo listu.\n",
    "1. Ovo je lista.\n",
    "2. \n",
    "3. \n",
    "\n",
    "Ukoliko želimo da istaknemo tekst koji predstavlja neki kod, koristi se etiketa\n",
    "`neki kod` \n",
    "\n",
    "Ukoliko kod ima više linija koristi se etiketa \n",
    "```\n",
    "neki kod\n",
    "```\n",
    "Ili se navede:  4 razmaka pa tekst koji predstavlja kod\n",
    "    neki kod\n",
    "\n",
    "[Moguće je navesti i URL adrese]( https://jupyter.org/)\n",
    "\n",
    "Ubacivanje slika se vrši pomoću: ![Alt text] (https://kaleidoskop-media.com/images/post-gallery/fotografija_812_24934_full.jpg)\n"
   ]
  }
 ],
 "metadata": {
  "kernelspec": {
   "display_name": "Python 3",
   "language": "python",
   "name": "python3"
  },
  "language_info": {
   "codemirror_mode": {
    "name": "ipython",
    "version": 3
   },
   "file_extension": ".py",
   "mimetype": "text/x-python",
   "name": "python",
   "nbconvert_exporter": "python",
   "pygments_lexer": "ipython3",
   "version": "3.8.5"
  }
 },
 "nbformat": 4,
 "nbformat_minor": 4
}
